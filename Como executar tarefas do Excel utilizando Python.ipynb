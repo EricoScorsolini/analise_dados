{
 "cells": [
  {
   "cell_type": "markdown",
   "metadata": {},
   "source": [
    "### Como realizar tarefas de planilhas utilizando Python\n",
    "\n",
    "Os dados utilizados neste exemplo são da balança comercial brasileira e podem ser acessados pelo link abaixo\n",
    "\n",
    "<a href=\"http://comexstat.mdic.gov.br/pt/home\">Site do MDIC</a>"
   ]
  },
  {
   "cell_type": "code",
   "execution_count": 1,
   "metadata": {},
   "outputs": [],
   "source": [
    "import pandas as pd"
   ]
  },
  {
   "cell_type": "code",
   "execution_count": 2,
   "metadata": {
    "scrolled": false
   },
   "outputs": [],
   "source": [
    "br_export = pd.read_excel('br_export.xlsx', sheet_name='tab_01')"
   ]
  },
  {
   "cell_type": "code",
   "execution_count": 3,
   "metadata": {
    "scrolled": true
   },
   "outputs": [
    {
     "data": {
      "text/html": [
       "<div>\n",
       "<style scoped>\n",
       "    .dataframe tbody tr th:only-of-type {\n",
       "        vertical-align: middle;\n",
       "    }\n",
       "\n",
       "    .dataframe tbody tr th {\n",
       "        vertical-align: top;\n",
       "    }\n",
       "\n",
       "    .dataframe thead th {\n",
       "        text-align: right;\n",
       "    }\n",
       "</style>\n",
       "<table border=\"1\" class=\"dataframe\">\n",
       "  <thead>\n",
       "    <tr style=\"text-align: right;\">\n",
       "      <th></th>\n",
       "      <th>Regiao</th>\n",
       "      <th>Agua</th>\n",
       "      <th>Cerveja</th>\n",
       "      <th>Sidra</th>\n",
       "      <th>Vinho</th>\n",
       "    </tr>\n",
       "  </thead>\n",
       "  <tbody>\n",
       "    <tr>\n",
       "      <th>0</th>\n",
       "      <td>Centro Oeste</td>\n",
       "      <td>715981</td>\n",
       "      <td>7821007</td>\n",
       "      <td>337615</td>\n",
       "      <td>423807</td>\n",
       "    </tr>\n",
       "    <tr>\n",
       "      <th>1</th>\n",
       "      <td>Nordeste</td>\n",
       "      <td>1124042</td>\n",
       "      <td>254776</td>\n",
       "      <td>13548</td>\n",
       "      <td>55817</td>\n",
       "    </tr>\n",
       "    <tr>\n",
       "      <th>2</th>\n",
       "      <td>Norte</td>\n",
       "      <td>1051047</td>\n",
       "      <td>458848</td>\n",
       "      <td>395081</td>\n",
       "      <td>19220</td>\n",
       "    </tr>\n",
       "    <tr>\n",
       "      <th>3</th>\n",
       "      <td>Sudeste</td>\n",
       "      <td>13899674</td>\n",
       "      <td>60361386</td>\n",
       "      <td>2524862</td>\n",
       "      <td>363873</td>\n",
       "    </tr>\n",
       "    <tr>\n",
       "      <th>4</th>\n",
       "      <td>Sul</td>\n",
       "      <td>1732492</td>\n",
       "      <td>23880783</td>\n",
       "      <td>1093832</td>\n",
       "      <td>7421037</td>\n",
       "    </tr>\n",
       "  </tbody>\n",
       "</table>\n",
       "</div>"
      ],
      "text/plain": [
       "         Regiao      Agua   Cerveja    Sidra    Vinho\n",
       "0  Centro Oeste    715981   7821007   337615   423807\n",
       "1      Nordeste   1124042    254776    13548    55817\n",
       "2         Norte   1051047    458848   395081    19220\n",
       "3       Sudeste  13899674  60361386  2524862   363873\n",
       "4           Sul   1732492  23880783  1093832  7421037"
      ]
     },
     "execution_count": 3,
     "metadata": {},
     "output_type": "execute_result"
    }
   ],
   "source": [
    "br_export"
   ]
  },
  {
   "cell_type": "markdown",
   "metadata": {},
   "source": [
    "## Adição de Soma Total para linhas e colunas"
   ]
  },
  {
   "cell_type": "code",
   "execution_count": 4,
   "metadata": {
    "scrolled": true
   },
   "outputs": [],
   "source": [
    "# Adiciona coluna Total com a soma  total de cada região\n",
    "\n",
    "br_export['Total (US$)'] = br_export.sum(axis=1)\n",
    "\n",
    "# Reseta o index\n",
    "\n",
    "br_export = br_export.set_index('Regiao')\n",
    "\n",
    "# Adiciona linha com a soma total dos produtos\n",
    "\n",
    "br_export = br_export.append(br_export.sum(numeric_only=True).rename('Total (US$)'))"
   ]
  },
  {
   "cell_type": "code",
   "execution_count": 5,
   "metadata": {},
   "outputs": [
    {
     "data": {
      "text/html": [
       "<div>\n",
       "<style scoped>\n",
       "    .dataframe tbody tr th:only-of-type {\n",
       "        vertical-align: middle;\n",
       "    }\n",
       "\n",
       "    .dataframe tbody tr th {\n",
       "        vertical-align: top;\n",
       "    }\n",
       "\n",
       "    .dataframe thead th {\n",
       "        text-align: right;\n",
       "    }\n",
       "</style>\n",
       "<table border=\"1\" class=\"dataframe\">\n",
       "  <thead>\n",
       "    <tr style=\"text-align: right;\">\n",
       "      <th></th>\n",
       "      <th>Agua</th>\n",
       "      <th>Cerveja</th>\n",
       "      <th>Sidra</th>\n",
       "      <th>Vinho</th>\n",
       "      <th>Total (US$)</th>\n",
       "    </tr>\n",
       "    <tr>\n",
       "      <th>Regiao</th>\n",
       "      <th></th>\n",
       "      <th></th>\n",
       "      <th></th>\n",
       "      <th></th>\n",
       "      <th></th>\n",
       "    </tr>\n",
       "  </thead>\n",
       "  <tbody>\n",
       "    <tr>\n",
       "      <th>Centro Oeste</th>\n",
       "      <td>715981</td>\n",
       "      <td>7821007</td>\n",
       "      <td>337615</td>\n",
       "      <td>423807</td>\n",
       "      <td>9298410</td>\n",
       "    </tr>\n",
       "    <tr>\n",
       "      <th>Nordeste</th>\n",
       "      <td>1124042</td>\n",
       "      <td>254776</td>\n",
       "      <td>13548</td>\n",
       "      <td>55817</td>\n",
       "      <td>1448183</td>\n",
       "    </tr>\n",
       "    <tr>\n",
       "      <th>Norte</th>\n",
       "      <td>1051047</td>\n",
       "      <td>458848</td>\n",
       "      <td>395081</td>\n",
       "      <td>19220</td>\n",
       "      <td>1924196</td>\n",
       "    </tr>\n",
       "    <tr>\n",
       "      <th>Sudeste</th>\n",
       "      <td>13899674</td>\n",
       "      <td>60361386</td>\n",
       "      <td>2524862</td>\n",
       "      <td>363873</td>\n",
       "      <td>77149795</td>\n",
       "    </tr>\n",
       "    <tr>\n",
       "      <th>Sul</th>\n",
       "      <td>1732492</td>\n",
       "      <td>23880783</td>\n",
       "      <td>1093832</td>\n",
       "      <td>7421037</td>\n",
       "      <td>34128144</td>\n",
       "    </tr>\n",
       "    <tr>\n",
       "      <th>Total (US$)</th>\n",
       "      <td>18523236</td>\n",
       "      <td>92776800</td>\n",
       "      <td>4364938</td>\n",
       "      <td>8283754</td>\n",
       "      <td>123948728</td>\n",
       "    </tr>\n",
       "  </tbody>\n",
       "</table>\n",
       "</div>"
      ],
      "text/plain": [
       "                  Agua   Cerveja    Sidra    Vinho  Total (US$)\n",
       "Regiao                                                         \n",
       "Centro Oeste    715981   7821007   337615   423807      9298410\n",
       "Nordeste       1124042    254776    13548    55817      1448183\n",
       "Norte          1051047    458848   395081    19220      1924196\n",
       "Sudeste       13899674  60361386  2524862   363873     77149795\n",
       "Sul            1732492  23880783  1093832  7421037     34128144\n",
       "Total (US$)   18523236  92776800  4364938  8283754    123948728"
      ]
     },
     "execution_count": 5,
     "metadata": {},
     "output_type": "execute_result"
    }
   ],
   "source": [
    "# vamos vizualizar a nova tabela com os totais para linhas e colunas\n",
    "\n",
    "br_export"
   ]
  },
  {
   "cell_type": "code",
   "execution_count": null,
   "metadata": {},
   "outputs": [],
   "source": [
    "# Formatar os valores como moeda para ficar mais legível\n",
    "\n",
    "from babel.numbers import format_currency\n",
    "\n",
    "br_export[br_export.columns[0:]] = br_export[br_export.columns[0:]].applymap(\n",
    "lambda x: format_currency(x, 'USD', locale='en_US'),)"
   ]
  },
  {
   "cell_type": "code",
   "execution_count": null,
   "metadata": {},
   "outputs": [],
   "source": [
    "# Tabela finalizada com valores em formato monetário\n",
    "\n",
    "br_export"
   ]
  }
 ],
 "metadata": {
  "kernelspec": {
   "display_name": "Python 3",
   "language": "python",
   "name": "python3"
  },
  "language_info": {
   "codemirror_mode": {
    "name": "ipython",
    "version": 3
   },
   "file_extension": ".py",
   "mimetype": "text/x-python",
   "name": "python",
   "nbconvert_exporter": "python",
   "pygments_lexer": "ipython3",
   "version": "3.8.3"
  }
 },
 "nbformat": 4,
 "nbformat_minor": 4
}
